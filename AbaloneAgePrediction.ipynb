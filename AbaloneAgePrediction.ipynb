{
 "cells": [
  {
   "cell_type": "code",
   "execution_count": 11,
   "metadata": {
    "collapsed": true
   },
   "outputs": [],
   "source": [
    "import pandas as pd\n",
    "%matplotlib inline\n",
    "import matplotlib.pyplot as plt\n",
    "import numpy as np\n",
    "\n",
    "from sklearn.svm import SVC\n",
    "from sklearn.utils import shuffle\n",
    "import seaborn as sns"
   ]
  },
  {
   "cell_type": "code",
   "execution_count": 12,
   "metadata": {
    "collapsed": true
   },
   "outputs": [],
   "source": [
    "data = pd.read_csv(\"dmw.csv\",header=None)\n",
    "data = shuffle(data)"
   ]
  },
  {
   "cell_type": "code",
   "execution_count": 13,
   "metadata": {},
   "outputs": [
    {
     "name": "stdout",
     "output_type": "stream",
     "text": [
      "      0      1      2      3       4       5       6       7   8\n",
      "2971  M  0.715  0.550  0.175  1.8250  0.9380  0.3805  0.4400  11\n",
      "2453  I  0.325  0.200  0.080  0.0995  0.0395  0.0225  0.0320   8\n",
      "860   F  0.595  0.475  0.160  1.1405  0.5470  0.2310  0.2710   6\n",
      "1959  F  0.650  0.510  0.155  1.1890  0.4830  0.2780  0.3645  13\n",
      "1527  M  0.720  0.565  0.200  2.1055  1.0170  0.3630  0.4940  12\n"
     ]
    }
   ],
   "source": [
    "print(data.head())"
   ]
  },
  {
   "cell_type": "code",
   "execution_count": 14,
   "metadata": {
    "collapsed": true
   },
   "outputs": [],
   "source": [
    "data[8] = np.ceil(data[8]/10).astype(int)"
   ]
  },
  {
   "cell_type": "code",
   "execution_count": 41,
   "metadata": {},
   "outputs": [
    {
     "data": {
      "text/html": [
       "<div>\n",
       "<style>\n",
       "    .dataframe thead tr:only-child th {\n",
       "        text-align: right;\n",
       "    }\n",
       "\n",
       "    .dataframe thead th {\n",
       "        text-align: left;\n",
       "    }\n",
       "\n",
       "    .dataframe tbody tr th {\n",
       "        vertical-align: top;\n",
       "    }\n",
       "</style>\n",
       "<table border=\"1\" class=\"dataframe\">\n",
       "  <thead>\n",
       "    <tr style=\"text-align: right;\">\n",
       "      <th></th>\n",
       "      <th>0</th>\n",
       "      <th>1</th>\n",
       "      <th>2</th>\n",
       "      <th>3</th>\n",
       "      <th>4</th>\n",
       "      <th>5</th>\n",
       "      <th>6</th>\n",
       "      <th>7</th>\n",
       "      <th>8</th>\n",
       "    </tr>\n",
       "  </thead>\n",
       "  <tbody>\n",
       "    <tr>\n",
       "      <th>count</th>\n",
       "      <td>0.0</td>\n",
       "      <td>4177.000000</td>\n",
       "      <td>4177.000000</td>\n",
       "      <td>4177.000000</td>\n",
       "      <td>4177.000000</td>\n",
       "      <td>4177.000000</td>\n",
       "      <td>4177.000000</td>\n",
       "      <td>4177.000000</td>\n",
       "      <td>4177.000000</td>\n",
       "    </tr>\n",
       "    <tr>\n",
       "      <th>mean</th>\n",
       "      <td>NaN</td>\n",
       "      <td>0.523992</td>\n",
       "      <td>0.407881</td>\n",
       "      <td>0.139516</td>\n",
       "      <td>0.828742</td>\n",
       "      <td>0.359367</td>\n",
       "      <td>0.180594</td>\n",
       "      <td>0.238831</td>\n",
       "      <td>1.355040</td>\n",
       "    </tr>\n",
       "    <tr>\n",
       "      <th>std</th>\n",
       "      <td>NaN</td>\n",
       "      <td>0.120093</td>\n",
       "      <td>0.099240</td>\n",
       "      <td>0.041827</td>\n",
       "      <td>0.490389</td>\n",
       "      <td>0.221963</td>\n",
       "      <td>0.109614</td>\n",
       "      <td>0.139203</td>\n",
       "      <td>0.496269</td>\n",
       "    </tr>\n",
       "    <tr>\n",
       "      <th>min</th>\n",
       "      <td>NaN</td>\n",
       "      <td>0.075000</td>\n",
       "      <td>0.055000</td>\n",
       "      <td>0.000000</td>\n",
       "      <td>0.002000</td>\n",
       "      <td>0.001000</td>\n",
       "      <td>0.000500</td>\n",
       "      <td>0.001500</td>\n",
       "      <td>1.000000</td>\n",
       "    </tr>\n",
       "    <tr>\n",
       "      <th>25%</th>\n",
       "      <td>NaN</td>\n",
       "      <td>0.450000</td>\n",
       "      <td>0.350000</td>\n",
       "      <td>0.115000</td>\n",
       "      <td>0.441500</td>\n",
       "      <td>0.186000</td>\n",
       "      <td>0.093500</td>\n",
       "      <td>0.130000</td>\n",
       "      <td>1.000000</td>\n",
       "    </tr>\n",
       "    <tr>\n",
       "      <th>50%</th>\n",
       "      <td>NaN</td>\n",
       "      <td>0.545000</td>\n",
       "      <td>0.425000</td>\n",
       "      <td>0.140000</td>\n",
       "      <td>0.799500</td>\n",
       "      <td>0.336000</td>\n",
       "      <td>0.171000</td>\n",
       "      <td>0.234000</td>\n",
       "      <td>1.000000</td>\n",
       "    </tr>\n",
       "    <tr>\n",
       "      <th>75%</th>\n",
       "      <td>NaN</td>\n",
       "      <td>0.615000</td>\n",
       "      <td>0.480000</td>\n",
       "      <td>0.165000</td>\n",
       "      <td>1.153000</td>\n",
       "      <td>0.502000</td>\n",
       "      <td>0.253000</td>\n",
       "      <td>0.329000</td>\n",
       "      <td>2.000000</td>\n",
       "    </tr>\n",
       "    <tr>\n",
       "      <th>max</th>\n",
       "      <td>NaN</td>\n",
       "      <td>0.815000</td>\n",
       "      <td>0.650000</td>\n",
       "      <td>1.130000</td>\n",
       "      <td>2.825500</td>\n",
       "      <td>1.488000</td>\n",
       "      <td>0.760000</td>\n",
       "      <td>1.005000</td>\n",
       "      <td>3.000000</td>\n",
       "    </tr>\n",
       "  </tbody>\n",
       "</table>\n",
       "</div>"
      ],
      "text/plain": [
       "         0            1            2            3            4            5  \\\n",
       "count  0.0  4177.000000  4177.000000  4177.000000  4177.000000  4177.000000   \n",
       "mean   NaN     0.523992     0.407881     0.139516     0.828742     0.359367   \n",
       "std    NaN     0.120093     0.099240     0.041827     0.490389     0.221963   \n",
       "min    NaN     0.075000     0.055000     0.000000     0.002000     0.001000   \n",
       "25%    NaN     0.450000     0.350000     0.115000     0.441500     0.186000   \n",
       "50%    NaN     0.545000     0.425000     0.140000     0.799500     0.336000   \n",
       "75%    NaN     0.615000     0.480000     0.165000     1.153000     0.502000   \n",
       "max    NaN     0.815000     0.650000     1.130000     2.825500     1.488000   \n",
       "\n",
       "                 6            7            8  \n",
       "count  4177.000000  4177.000000  4177.000000  \n",
       "mean      0.180594     0.238831     1.355040  \n",
       "std       0.109614     0.139203     0.496269  \n",
       "min       0.000500     0.001500     1.000000  \n",
       "25%       0.093500     0.130000     1.000000  \n",
       "50%       0.171000     0.234000     1.000000  \n",
       "75%       0.253000     0.329000     2.000000  \n",
       "max       0.760000     1.005000     3.000000  "
      ]
     },
     "execution_count": 41,
     "metadata": {},
     "output_type": "execute_result"
    }
   ],
   "source": [
    "data[0]=data[0].map({\"I\":0,\"M\":1})\n",
    "data.describe()"
   ]
  },
  {
   "cell_type": "code",
   "execution_count": 16,
   "metadata": {},
   "outputs": [
    {
     "data": {
      "image/png": "[encoded data removed]",
      "text/plain": [
       "<matplotlib.figure.Figure at 0x7f64317d1400>"
      ]
     },
     "metadata": {},
     "output_type": "display_data"
    }
   ],
   "source": [
    "plt.hist(data[8],bins=30)\n",
    "plt.ylabel('No of times')\n",
    "plt.xlabel('Class')\n",
    "plt.show()"
   ]
  },
  {
   "cell_type": "code",
   "execution_count": 17,
   "metadata": {
    "collapsed": true
   },
   "outputs": [],
   "source": [
    "data.fillna(data[0].mode(),inplace=True)\n",
    "data.isnull().sum()\n",
    "x = data"
   ]
  },
  {
   "cell_type": "code",
   "execution_count": 55,
   "metadata": {},
   "outputs": [
    {
     "data": {
      "text/plain": [
       "SVC(C=1.0, cache_size=200, class_weight=None, coef0=0.0,\n",
       "  decision_function_shape='ovr', degree=3, gamma='auto', kernel='linear',\n",
       "  max_iter=-1, probability=False, random_state=None, shrinking=True,\n",
       "  tol=0.001, verbose=False)"
      ]
     },
     "execution_count": 55,
     "metadata": {},
     "output_type": "execute_result"
    }
   ],
   "source": [
    "clf = SVC(gamma='auto')\n",
    "x = np.array(x)\n",
    "X = x[0:3500,:8].astype('float')\n",
    "y = x[0:3500,8].astype('float')\n",
    "\n",
    "test = x[3501:4177,:].astype('float')\n",
    "y_test = test[:,8:]\n",
    "\n",
    "# X = data.drop(data[0],inplace=True)\n",
    "\n",
    "clf = SVC(gamma='auto',kernel='linear')\n",
    "clf.fit(X, y) \n"
   ]
  },
  {
   "cell_type": "code",
   "execution_count": 20,
   "metadata": {},
   "outputs": [
    {
     "data": {
      "text/plain": [
       "((3500, 8), (3500,))"
      ]
     },
     "execution_count": 20,
     "metadata": {},
     "output_type": "execute_result"
    }
   ],
   "source": [
    "X.shape,y.shape"
   ]
  },
  {
   "cell_type": "code",
   "execution_count": 56,
   "metadata": {},
   "outputs": [
    {
     "name": "stdout",
     "output_type": "stream",
     "text": [
      "[[ 1.      0.65    0.51   ...,  0.2025  0.385   2.    ]\n",
      " [ 0.      0.41    0.335  ...,  0.064   0.105   1.    ]\n",
      " [ 0.      0.465   0.355  ...,  0.074   0.1275  1.    ]\n",
      " ..., \n",
      " [ 1.      0.595   0.475  ...,  0.234   0.58    3.    ]\n",
      " [ 1.      0.71    0.5    ...,  0.2815  0.28    1.    ]\n",
      " [ 0.      0.565   0.435  ...,  0.158   0.255   1.    ]]\n",
      "[ 2.  1.  1.  2.  2.  1.  1.  1.  1.  1.  1.  1.  1.  1.  1.  1.  2.  1.\n",
      "  2.  1.  1.  1.  2.  1.  2.  1.  1.  1.  1.  1.  1.  1.  1.  2.  1.  1.\n",
      "  1.  1.  2.  1.  1.  1.  1.  1.  1.  1.  1.  1.  1.  1.  1.  2.  2.  1.\n",
      "  1.  1.  2.  1.  1.  2.  1.  2.  2.  1.  1.  2.  1.  1.  1.  2.  1.  1.\n",
      "  1.  2.  1.  1.  1.  1.  1.  2.  1.  1.  1.  2.  1.  2.  1.  1.  1.  1.\n",
      "  1.  1.  1.  1.  2.  1.  1.  1.  1.  1.  1.  2.  1.  1.  1.  2.  1.  1.\n",
      "  1.  1.  1.  2.  1.  1.  1.  2.  1.  1.  1.  2.  2.  2.  1.  1.  1.  1.\n",
      "  1.  2.  1.  1.  1.  1.  1.  1.  1.  1.  2.  1.  1.  1.  1.  1.  1.  1.\n",
      "  2.  2.  1.  1.  1.  1.  1.  1.  2.  2.  1.  2.  2.  1.  2.  1.  2.  1.\n",
      "  2.  1.  1.  1.  1.  2.  2.  1.  1.  1.  1.  1.  1.  1.  1.  1.  1.  1.\n",
      "  1.  1.  1.  1.  1.  2.  2.  1.  1.  1.  1.  1.  1.  1.  1.  1.  2.  1.\n",
      "  1.  1.  1.  1.  1.  1.  1.  2.  2.  1.  1.  1.  2.  1.  1.  2.  1.  2.\n",
      "  1.  2.  1.  1.  1.  1.  2.  1.  2.  2.  1.  1.  1.  1.  2.  1.  1.  1.\n",
      "  1.  1.  2.  2.  2.  1.  2.  1.  2.  1.  1.  1.  2.  1.  1.  2.  1.  1.\n",
      "  2.  1.  1.  1.  1.  2.  2.  2.  1.  1.  1.  1.  1.  1.  1.  1.  1.  1.\n",
      "  1.  1.  2.  1.  2.  1.  1.  1.  1.  1.  1.  1.  1.  1.  1.  1.  1.  1.\n",
      "  1.  1.  1.  1.  1.  1.  1.  1.  2.  1.  1.  1.  1.  1.  1.  1.  1.  1.\n",
      "  2.  1.  2.  2.  1.  1.  1.  1.  1.  1.  1.  2.  1.  1.  1.  1.  1.  1.\n",
      "  1.  1.  2.  1.  2.  1.  1.  2.  1.  1.  1.  1.  2.  1.  1.  1.  1.  1.\n",
      "  1.  1.  2.  1.  1.  1.  1.  2.  1.  1.  1.  1.  1.  1.  1.  1.  1.  2.\n",
      "  1.  1.  1.  2.  1.  1.  1.  2.  2.  1.  2.  1.  1.  1.  1.  2.  1.  2.\n",
      "  1.  1.  1.  1.  1.  2.  1.  1.  1.  1.  1.  2.  1.  1.  1.  1.  1.  2.\n",
      "  1.  1.  1.  1.  2.  1.  2.  1.  2.  1.  1.  2.  1.  2.  2.  1.  1.  2.\n",
      "  2.  1.  2.  1.  1.  1.  1.  1.  1.  1.  1.  1.  1.  1.  2.  1.  2.  1.\n",
      "  1.  1.  1.  1.  1.  2.  2.  1.  2.  1.  2.  1.  1.  2.  1.  1.  1.  1.\n",
      "  1.  2.  1.  2.  1.  1.  2.  1.  1.  2.  1.  1.  1.  1.  1.  1.  1.  1.\n",
      "  2.  1.  1.  1.  1.  1.  1.  2.  1.  1.  1.  1.  1.  1.  1.  2.  1.  1.\n",
      "  1.  2.  1.  1.  1.  1.  1.  1.  1.  1.  1.  1.  2.  2.  1.  1.  1.  1.\n",
      "  1.  1.  1.  1.  1.  1.  1.  1.  1.  1.  1.  1.  1.  1.  1.  1.  2.  1.\n",
      "  1.  1.  2.  1.  1.  1.  1.  2.  2.  2.  1.  1.  1.  2.  1.  1.  1.  1.\n",
      "  1.  1.  2.  1.  1.  1.  1.  1.  2.  1.  1.  1.  1.  1.  1.  1.  1.  2.\n",
      "  1.  1.  2.  1.  1.  1.  1.  1.  2.  1.  1.  2.  1.  1.  1.  1.  2.  2.\n",
      "  1.  1.  1.  1.  1.  1.  1.  1.  1.  2.  1.  1.  1.  1.  1.  2.  1.  2.\n",
      "  2.  1.  2.  1.  1.  1.  1.  1.  1.  1.  2.  1.  1.  1.  2.  1.  1.  2.\n",
      "  1.  1.  1.  2.  2.  1.  1.  1.  1.  2.  1.  1.  2.  1.  1.  1.  2.  1.\n",
      "  1.  1.  1.  2.  1.  1.  1.  1.  1.  1.  2.  2.  2.  1.  1.  1.  1.  2.\n",
      "  2.  1.  1.  1.  1.  1.  1.  1.  1.  2.  2.  1.  1.  1.  1.  1.  1.  1.\n",
      "  1.  1.  1.  1.  1.  1.  1.  2.  1.  1.]\n"
     ]
    }
   ],
   "source": [
    "predicted = clf.predict(test[:,:8])\n",
    "print(test)\n",
    "print(predicted)"
   ]
  },
  {
   "cell_type": "code",
   "execution_count": 57,
   "metadata": {},
   "outputs": [
    {
     "name": "stdout",
     "output_type": "stream",
     "text": [
      "79.4074074074074\n"
     ]
    }
   ],
   "source": [
    "count=0\n",
    "for l in range(675):\n",
    "    if(predicted[l]==test[l,8]):\n",
    "        count=count+1\n",
    "print((count/675)*100)"
   ]
  },
  {
   "cell_type": "code",
   "execution_count": 58,
   "metadata": {},
   "outputs": [
    {
     "data": {
      "image/png": "[encoded data removed]",
      "text/plain": [
       "<matplotlib.figure.Figure at 0x7f64288dbda0>"
      ]
     },
     "metadata": {},
     "output_type": "display_data"
    }
   ],
   "source": [
    "from sklearn.metrics import confusion_matrix\n",
    "labels = [1,2,3]\n",
    "conf_mat = confusion_matrix(y_test,predicted,labels)\n",
    "fig = plt.figure()\n",
    "ax = fig.add_subplot(111)\n",
    "cax = ax.matshow(conf_mat)\n",
    "plt.matshow(conf_mat)\n",
    "plt.title('Confusion matrix SVM')\n",
    "fig.colorbar(cax)\n",
    "ax.set_xticklabels([''] + labels)\n",
    "ax.set_yticklabels([''] + labels)\n",
    "plt.ylabel('True label')\n",
    "plt.xlabel('Predicted label')\n",
    "fig.savefig('svm.png')\n",
    "plt.close(fig)"
   ]
  },
  {
   "cell_type": "code",
   "execution_count": 59,
   "metadata": {},
   "outputs": [
    {
     "data": {
      "text/plain": [
       "GaussianNB(priors=None)"
      ]
     },
     "execution_count": 59,
     "metadata": {},
     "output_type": "execute_result"
    }
   ],
   "source": [
    "from sklearn.naive_bayes import GaussianNB\n",
    "model = GaussianNB()\n",
    "model.fit(X,y)"
   ]
  },
  {
   "cell_type": "code",
   "execution_count": 60,
   "metadata": {},
   "outputs": [
    {
     "name": "stdout",
     "output_type": "stream",
     "text": [
      "[ 2.  1.  1.  2.  1.  1.  2.  2.  2.  1.  1.  1.  1.  1.  1.  1.  3.  1.\n",
      "  2.  1.  2.  1.  2.  1.  2.  1.  1.  1.  1.  1.  1.  2.  2.  2.  1.  2.\n",
      "  1.  1.  2.  1.  1.  1.  1.  1.  2.  1.  1.  1.  1.  1.  1.  1.  2.  1.\n",
      "  1.  1.  2.  1.  1.  2.  1.  2.  2.  1.  1.  1.  1.  1.  2.  1.  1.  1.\n",
      "  1.  2.  2.  1.  1.  2.  1.  2.  1.  1.  2.  2.  1.  1.  1.  1.  1.  1.\n",
      "  1.  1.  1.  1.  1.  1.  1.  1.  1.  1.  1.  2.  2.  1.  1.  2.  1.  1.\n",
      "  1.  2.  1.  2.  1.  1.  1.  2.  2.  1.  1.  2.  2.  2.  1.  1.  1.  1.\n",
      "  2.  2.  2.  1.  1.  1.  1.  1.  1.  2.  2.  1.  1.  1.  1.  1.  1.  1.\n",
      "  2.  2.  1.  1.  1.  1.  2.  1.  2.  2.  1.  1.  2.  1.  2.  1.  1.  1.\n",
      "  2.  1.  2.  1.  2.  2.  2.  1.  1.  2.  1.  2.  1.  2.  1.  1.  1.  1.\n",
      "  1.  1.  1.  1.  1.  2.  2.  2.  1.  1.  1.  2.  1.  1.  1.  1.  2.  2.\n",
      "  1.  2.  1.  1.  2.  1.  1.  2.  2.  1.  1.  1.  1.  1.  1.  2.  1.  2.\n",
      "  1.  2.  1.  1.  2.  1.  1.  1.  1.  1.  1.  1.  2.  1.  2.  1.  1.  1.\n",
      "  1.  1.  2.  2.  2.  1.  1.  1.  2.  1.  1.  1.  2.  2.  2.  2.  2.  1.\n",
      "  2.  1.  2.  1.  2.  3.  3.  2.  1.  1.  1.  1.  1.  1.  1.  1.  1.  1.\n",
      "  1.  1.  2.  2.  2.  2.  1.  2.  1.  1.  2.  2.  1.  2.  1.  1.  2.  1.\n",
      "  1.  1.  2.  1.  1.  1.  1.  1.  2.  1.  1.  1.  1.  2.  1.  2.  1.  1.\n",
      "  2.  1.  2.  1.  2.  2.  1.  1.  1.  1.  1.  2.  1.  1.  1.  1.  1.  1.\n",
      "  1.  1.  2.  2.  2.  1.  1.  2.  1.  1.  2.  2.  2.  1.  2.  2.  1.  2.\n",
      "  1.  1.  2.  2.  1.  1.  2.  2.  1.  2.  1.  1.  2.  1.  1.  1.  1.  2.\n",
      "  1.  2.  1.  3.  1.  2.  1.  2.  1.  1.  1.  1.  1.  1.  1.  1.  2.  1.\n",
      "  1.  1.  1.  1.  2.  1.  1.  1.  2.  1.  2.  2.  1.  1.  1.  1.  1.  2.\n",
      "  1.  1.  1.  1.  2.  1.  2.  1.  2.  1.  1.  1.  1.  2.  2.  1.  1.  2.\n",
      "  2.  1.  1.  1.  1.  2.  2.  1.  1.  1.  2.  1.  1.  1.  2.  1.  2.  1.\n",
      "  1.  1.  1.  1.  2.  2.  2.  1.  1.  1.  2.  1.  1.  2.  1.  1.  1.  2.\n",
      "  2.  2.  1.  2.  1.  1.  2.  1.  1.  1.  1.  1.  1.  1.  1.  1.  1.  1.\n",
      "  2.  1.  3.  1.  1.  1.  2.  1.  1.  1.  1.  1.  1.  1.  2.  2.  1.  1.\n",
      "  2.  1.  1.  1.  1.  2.  1.  1.  1.  1.  1.  1.  2.  2.  2.  1.  1.  2.\n",
      "  1.  2.  1.  1.  1.  1.  1.  1.  1.  1.  1.  1.  1.  1.  1.  1.  2.  1.\n",
      "  1.  1.  2.  1.  1.  1.  2.  2.  2.  2.  2.  1.  1.  2.  1.  1.  2.  1.\n",
      "  1.  1.  2.  1.  2.  1.  1.  1.  1.  1.  2.  1.  2.  1.  2.  2.  1.  2.\n",
      "  1.  1.  2.  1.  2.  1.  1.  1.  2.  1.  1.  2.  1.  2.  1.  1.  1.  2.\n",
      "  1.  1.  2.  1.  1.  1.  3.  1.  2.  2.  1.  1.  2.  1.  2.  2.  1.  2.\n",
      "  2.  2.  1.  1.  1.  1.  1.  1.  1.  1.  2.  2.  1.  1.  2.  1.  1.  2.\n",
      "  2.  2.  1.  2.  2.  1.  1.  1.  1.  2.  1.  1.  1.  1.  1.  1.  2.  1.\n",
      "  1.  1.  2.  2.  1.  1.  1.  2.  1.  1.  2.  2.  2.  1.  1.  1.  2.  2.\n",
      "  2.  2.  1.  1.  1.  1.  1.  2.  1.  2.  2.  1.  1.  2.  1.  1.  1.  1.\n",
      "  1.  2.  1.  2.  1.  1.  1.  3.  1.  1.]\n",
      "[ 2.  1.  1.  2.  2.  1.  2.  2.  2.  2.  1.  1.  2.  2.  1.  1.  3.  2.\n",
      "  2.  1.  1.  1.  2.  2.  2.  1.  2.  1.  1.  1.  2.  1.  1.  2.  2.  2.\n",
      "  1.  1.  2.  1.  2.  1.  1.  2.  1.  1.  2.  2.  1.  1.  2.  2.  2.  1.\n",
      "  2.  1.  2.  2.  1.  2.  1.  2.  1.  1.  1.  2.  2.  2.  1.  2.  1.  1.\n",
      "  1.  2.  1.  1.  1.  2.  2.  2.  2.  1.  2.  1.  1.  2.  2.  1.  1.  1.\n",
      "  2.  1.  2.  1.  2.  2.  1.  1.  1.  1.  1.  2.  1.  1.  1.  2.  2.  2.\n",
      "  1.  1.  2.  2.  1.  1.  2.  3.  2.  2.  1.  2.  2.  2.  1.  1.  1.  1.\n",
      "  1.  2.  1.  2.  1.  2.  1.  1.  1.  2.  2.  1.  1.  1.  1.  1.  1.  1.\n",
      "  2.  2.  2.  1.  1.  2.  2.  1.  2.  2.  1.  2.  2.  1.  2.  1.  2.  1.\n",
      "  2.  1.  1.  1.  1.  2.  1.  1.  2.  2.  1.  1.  1.  1.  2.  1.  1.  2.\n",
      "  1.  2.  2.  1.  1.  2.  2.  1.  1.  1.  2.  1.  1.  1.  1.  1.  2.  2.\n",
      "  1.  2.  1.  1.  2.  1.  1.  2.  2.  2.  1.  2.  2.  2.  2.  2.  1.  2.\n",
      "  1.  2.  2.  1.  2.  1.  2.  2.  2.  2.  1.  2.  1.  1.  3.  1.  1.  1.\n",
      "  2.  1.  2.  2.  2.  1.  2.  1.  2.  1.  1.  2.  2.  1.  1.  2.  2.  1.\n",
      "  2.  1.  1.  1.  2.  2.  2.  1.  1.  2.  1.  2.  1.  1.  1.  1.  2.  1.\n",
      "  1.  1.  3.  1.  2.  1.  2.  1.  2.  2.  1.  1.  1.  2.  1.  1.  1.  2.\n",
      "  2.  2.  2.  1.  2.  2.  2.  1.  2.  2.  1.  1.  1.  1.  2.  2.  1.  1.\n",
      "  2.  2.  2.  2.  1.  1.  1.  1.  1.  1.  2.  2.  2.  1.  1.  1.  1.  1.\n",
      "  1.  1.  3.  2.  2.  2.  2.  2.  1.  1.  2.  2.  1.  1.  1.  1.  1.  1.\n",
      "  1.  1.  2.  2.  1.  1.  1.  2.  1.  2.  1.  1.  2.  2.  1.  1.  2.  3.\n",
      "  2.  2.  1.  1.  1.  2.  1.  2.  2.  2.  2.  1.  2.  1.  1.  2.  1.  2.\n",
      "  2.  1.  1.  1.  1.  2.  1.  2.  2.  1.  1.  2.  1.  1.  1.  1.  2.  3.\n",
      "  2.  1.  1.  1.  2.  1.  2.  1.  2.  1.  1.  2.  1.  2.  2.  1.  1.  1.\n",
      "  2.  1.  2.  1.  1.  1.  2.  1.  1.  1.  1.  1.  1.  2.  2.  1.  2.  2.\n",
      "  1.  1.  2.  1.  2.  2.  2.  1.  2.  1.  2.  1.  1.  3.  2.  2.  1.  1.\n",
      "  1.  1.  1.  2.  2.  2.  2.  1.  2.  2.  1.  2.  2.  1.  1.  1.  1.  1.\n",
      "  1.  1.  2.  1.  1.  1.  2.  3.  1.  1.  2.  2.  1.  1.  1.  2.  2.  1.\n",
      "  2.  2.  1.  1.  1.  2.  2.  1.  2.  1.  1.  2.  1.  2.  2.  1.  1.  2.\n",
      "  2.  2.  2.  1.  1.  2.  1.  2.  1.  1.  1.  1.  2.  1.  2.  1.  2.  1.\n",
      "  2.  1.  2.  2.  2.  1.  2.  2.  2.  2.  1.  1.  2.  2.  1.  2.  2.  1.\n",
      "  1.  1.  3.  1.  1.  1.  1.  2.  2.  2.  2.  1.  1.  1.  1.  1.  2.  2.\n",
      "  1.  1.  2.  1.  1.  1.  1.  1.  1.  2.  1.  2.  2.  2.  1.  1.  2.  2.\n",
      "  1.  1.  1.  2.  1.  1.  1.  1.  1.  2.  1.  1.  1.  1.  2.  2.  2.  2.\n",
      "  2.  1.  2.  1.  1.  2.  1.  1.  1.  1.  2.  2.  1.  1.  1.  1.  1.  2.\n",
      "  2.  1.  2.  2.  2.  1.  1.  2.  1.  2.  2.  1.  2.  1.  1.  2.  2.  1.\n",
      "  1.  1.  2.  2.  1.  1.  2.  2.  2.  1.  2.  2.  2.  1.  1.  2.  1.  3.\n",
      "  2.  1.  1.  1.  2.  1.  1.  2.  2.  2.  2.  1.  1.  2.  1.  1.  2.  1.\n",
      "  2.  2.  1.  1.  1.  2.  1.  2.  2.  1.]\n"
     ]
    }
   ],
   "source": [
    "predicted= model.predict(test[:,0:8])\n",
    "print(test[:,8])\n",
    "print(predicted)"
   ]
  },
  {
   "cell_type": "code",
   "execution_count": 61,
   "metadata": {},
   "outputs": [
    {
     "name": "stdout",
     "output_type": "stream",
     "text": [
      "65.48148148148148\n"
     ]
    }
   ],
   "source": [
    "count=0\n",
    "for l in range(675):\n",
    "    if(predicted[l]==test[l,8]):\n",
    "        count=count+1\n",
    "print((count/675)*100)"
   ]
  },
  {
   "cell_type": "code",
   "execution_count": 62,
   "metadata": {},
   "outputs": [
    {
     "data": {
      "image/png": "[encoded data removed]",
      "text/plain": [
       "<matplotlib.figure.Figure at 0x7f642997f0b8>"
      ]
     },
     "metadata": {},
     "output_type": "display_data"
    }
   ],
   "source": [
    "from sklearn.metrics import confusion_matrix\n",
    "labels = [1,2,3]\n",
    "conf_mat = confusion_matrix(y_test,predicted,labels)\n",
    "fig = plt.figure()\n",
    "ax = fig.add_subplot(111)\n",
    "cax = ax.matshow(conf_mat)\n",
    "plt.matshow(conf_mat)\n",
    "plt.title('Confusion matrix Naive Bayes')\n",
    "fig.colorbar(cax)\n",
    "ax.set_xticklabels([''] + labels)\n",
    "ax.set_yticklabels([''] + labels)\n",
    "plt.ylabel('True label')\n",
    "plt.xlabel('Predicted label')\n",
    "fig.savefig('naive.png')\n",
    "plt.close(fig)"
   ]
  },
  {
   "cell_type": "code",
   "execution_count": 63,
   "metadata": {},
   "outputs": [
    {
     "name": "stdout",
     "output_type": "stream",
     "text": [
      "[[ 1.      0.65    0.51   ...,  0.2025  0.385   2.    ]\n",
      " [ 0.      0.41    0.335  ...,  0.064   0.105   1.    ]\n",
      " [ 0.      0.465   0.355  ...,  0.074   0.1275  1.    ]\n",
      " ..., \n",
      " [ 1.      0.595   0.475  ...,  0.234   0.58    3.    ]\n",
      " [ 1.      0.71    0.5    ...,  0.2815  0.28    1.    ]\n",
      " [ 0.      0.565   0.435  ...,  0.158   0.255   1.    ]]\n",
      "[ 2.  1.  1.  2.  2.  2.  2.  1.  1.  2.  1.  1.  1.  2.  1.  1.  2.  1.\n",
      "  2.  1.  2.  1.  2.  1.  2.  1.  1.  1.  1.  1.  1.  1.  1.  1.  2.  2.\n",
      "  1.  2.  3.  1.  1.  2.  1.  2.  1.  2.  2.  1.  1.  1.  1.  2.  1.  1.\n",
      "  2.  1.  1.  1.  1.  1.  1.  1.  2.  1.  1.  1.  1.  1.  1.  2.  2.  1.\n",
      "  1.  1.  1.  1.  1.  2.  1.  2.  2.  1.  2.  1.  1.  2.  1.  1.  1.  1.\n",
      "  1.  1.  1.  1.  1.  2.  1.  1.  1.  1.  1.  2.  1.  1.  1.  1.  1.  2.\n",
      "  1.  1.  1.  1.  1.  1.  2.  2.  2.  1.  1.  2.  2.  2.  2.  1.  1.  1.\n",
      "  1.  2.  2.  1.  1.  1.  2.  1.  1.  1.  2.  1.  2.  2.  1.  1.  1.  1.\n",
      "  2.  1.  1.  1.  1.  2.  2.  1.  1.  2.  1.  2.  2.  1.  2.  1.  2.  1.\n",
      "  2.  2.  2.  1.  2.  1.  3.  2.  1.  2.  1.  2.  1.  1.  1.  1.  1.  1.\n",
      "  1.  2.  2.  1.  1.  2.  1.  3.  1.  1.  2.  2.  1.  1.  1.  1.  3.  1.\n",
      "  1.  1.  1.  1.  2.  1.  1.  1.  1.  1.  2.  2.  2.  1.  1.  1.  1.  1.\n",
      "  1.  2.  1.  1.  2.  1.  1.  1.  2.  1.  1.  2.  2.  1.  2.  1.  1.  1.\n",
      "  2.  1.  1.  2.  2.  1.  2.  1.  2.  1.  1.  1.  1.  1.  2.  2.  2.  1.\n",
      "  1.  1.  1.  1.  1.  2.  2.  1.  2.  1.  1.  1.  1.  1.  1.  1.  2.  1.\n",
      "  1.  1.  2.  1.  2.  2.  2.  1.  1.  1.  1.  1.  1.  2.  1.  1.  2.  1.\n",
      "  2.  1.  1.  1.  2.  2.  1.  1.  1.  1.  2.  2.  1.  1.  1.  1.  1.  1.\n",
      "  1.  2.  2.  1.  2.  2.  1.  1.  1.  1.  2.  2.  1.  1.  1.  1.  1.  1.\n",
      "  1.  1.  2.  1.  2.  1.  2.  2.  1.  1.  1.  1.  2.  1.  1.  2.  1.  2.\n",
      "  1.  1.  2.  1.  1.  1.  2.  2.  1.  1.  1.  1.  1.  1.  2.  1.  2.  2.\n",
      "  1.  1.  2.  2.  1.  1.  1.  2.  2.  1.  2.  1.  1.  1.  1.  1.  1.  2.\n",
      "  1.  1.  2.  1.  2.  1.  1.  2.  2.  1.  1.  2.  1.  1.  1.  2.  1.  3.\n",
      "  1.  1.  1.  1.  2.  1.  3.  1.  2.  2.  2.  2.  1.  1.  2.  1.  1.  2.\n",
      "  2.  2.  1.  2.  2.  2.  3.  1.  2.  2.  2.  1.  1.  2.  1.  1.  2.  2.\n",
      "  1.  1.  2.  1.  2.  2.  3.  1.  2.  1.  1.  1.  1.  2.  1.  2.  2.  2.\n",
      "  1.  2.  1.  2.  1.  2.  2.  1.  2.  2.  1.  1.  2.  1.  1.  1.  1.  1.\n",
      "  2.  2.  1.  1.  1.  1.  2.  2.  1.  2.  1.  1.  1.  1.  1.  2.  1.  1.\n",
      "  2.  2.  2.  2.  2.  1.  1.  1.  1.  1.  1.  2.  3.  2.  1.  1.  1.  1.\n",
      "  1.  2.  2.  1.  1.  1.  1.  1.  1.  1.  2.  1.  1.  1.  2.  1.  2.  2.\n",
      "  1.  1.  2.  1.  1.  1.  2.  1.  1.  2.  1.  1.  1.  2.  1.  1.  2.  1.\n",
      "  1.  1.  2.  1.  2.  1.  1.  1.  1.  1.  1.  1.  1.  1.  1.  1.  2.  2.\n",
      "  1.  1.  1.  1.  1.  1.  1.  1.  2.  2.  1.  2.  2.  2.  1.  1.  2.  1.\n",
      "  1.  1.  2.  1.  2.  1.  1.  1.  2.  2.  1.  2.  2.  1.  1.  2.  1.  2.\n",
      "  2.  1.  2.  1.  1.  1.  1.  1.  1.  2.  2.  1.  1.  2.  2.  1.  1.  1.\n",
      "  1.  2.  1.  1.  3.  1.  1.  1.  2.  3.  1.  1.  1.  1.  1.  2.  1.  1.\n",
      "  1.  1.  1.  1.  2.  1.  2.  1.  1.  1.  2.  2.  2.  1.  1.  1.  2.  2.\n",
      "  2.  1.  1.  1.  2.  1.  1.  1.  1.  2.  2.  1.  1.  2.  1.  1.  1.  1.\n",
      "  1.  1.  2.  1.  1.  1.  1.  3.  2.  1.]\n"
     ]
    }
   ],
   "source": [
    "from sklearn.tree import DecisionTreeClassifier\n",
    "model_decision = DecisionTreeClassifier()\n",
    "model_decision.fit(X,y)\n",
    "\n",
    "predicted = model_decision.predict(test[:,:8])\n",
    "print(test)\n",
    "print(predicted)\n"
   ]
  },
  {
   "cell_type": "code",
   "execution_count": null,
   "metadata": {
    "collapsed": true
   },
   "outputs": [],
   "source": []
  },
  {
   "cell_type": "code",
   "execution_count": 39,
   "metadata": {},
   "outputs": [
    {
     "name": "stdout",
     "output_type": "stream",
     "text": [
      "69.92592592592592\n"
     ]
    }
   ],
   "source": [
    "count=0\n",
    "for l in range(675):\n",
    "    if(predicted[l]==test[l,8]):\n",
    "        count=count+1\n",
    "print((count/675)*100)"
   ]
  },
  {
   "cell_type": "code",
   "execution_count": 64,
   "metadata": {},
   "outputs": [
    {
     "data": {
      "image/png": "[encoded data removed]",
      "text/plain": [
       "<matplotlib.figure.Figure at 0x7f6428bea0b8>"
      ]
     },
     "metadata": {},
     "output_type": "display_data"
    }
   ],
   "source": [
    "from sklearn.metrics import confusion_matrix\n",
    "labels = [1,2,3]\n",
    "conf_mat = confusion_matrix(y_test,predicted,labels)\n",
    "fig = plt.figure()\n",
    "ax = fig.add_subplot(111)\n",
    "cax = ax.matshow(conf_mat)\n",
    "plt.matshow(conf_mat)\n",
    "plt.title('Confusion matrix SVM')\n",
    "fig.colorbar(cax)\n",
    "ax.set_xticklabels([''] + labels)\n",
    "ax.set_yticklabels([''] + labels)\n",
    "plt.ylabel('True label')\n",
    "plt.xlabel('Predicted label')\n",
    "fig.savefig('decision.png')\n",
    "plt.close(fig)"
   ]
  }
 ],
 "metadata": {
  "kernelspec": {
   "display_name": "Python 3",
   "language": "python",
   "name": "python3"
  },
  "language_info": {
   "codemirror_mode": {
    "name": "ipython",
    "version": 3
   },
   "file_extension": ".py",
   "mimetype": "text/x-python",
   "name": "python",
   "nbconvert_exporter": "python",
   "pygments_lexer": "ipython3",
   "version": "3.6.3"
  }
 },
 "nbformat": 4,
 "nbformat_minor": 2
}
